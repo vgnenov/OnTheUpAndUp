{
 "cells": [
  {
   "cell_type": "code",
   "execution_count": 1,
   "metadata": {},
   "outputs": [],
   "source": [
    "%matplotlib inline\n",
    "import matplotlib.pyplot as plt\n",
    "import numpy as np\n",
    "import pandas as pd"
   ]
  },
  {
   "cell_type": "code",
   "execution_count": 3,
   "metadata": {},
   "outputs": [
    {
     "data": {
      "text/html": [
       "<div>\n",
       "<style scoped>\n",
       "    .dataframe tbody tr th:only-of-type {\n",
       "        vertical-align: middle;\n",
       "    }\n",
       "\n",
       "    .dataframe tbody tr th {\n",
       "        vertical-align: top;\n",
       "    }\n",
       "\n",
       "    .dataframe thead th {\n",
       "        text-align: right;\n",
       "    }\n",
       "</style>\n",
       "<table border=\"1\" class=\"dataframe\">\n",
       "  <thead>\n",
       "    <tr style=\"text-align: right;\">\n",
       "      <th></th>\n",
       "      <th>Year</th>\n",
       "      <th>Mean Hourly Wage</th>\n",
       "      <th>Annual Mean Wage</th>\n",
       "      <th>Median Hourly Wage</th>\n",
       "      <th>Median Weekly Earnings</th>\n",
       "      <th>Annual Median Wage</th>\n",
       "      <th>Unnamed: 6</th>\n",
       "      <th>Unnamed: 7</th>\n",
       "      <th>Unnamed: 8</th>\n",
       "      <th>Unnamed: 9</th>\n",
       "      <th>Unnamed: 10</th>\n",
       "      <th>Unnamed: 11</th>\n",
       "      <th>Unnamed: 12</th>\n",
       "    </tr>\n",
       "  </thead>\n",
       "  <tbody>\n",
       "    <tr>\n",
       "      <th>0</th>\n",
       "      <td>2019</td>\n",
       "      <td>43.32</td>\n",
       "      <td>90110</td>\n",
       "      <td>41.89</td>\n",
       "      <td>1676</td>\n",
       "      <td>83780</td>\n",
       "      <td>NaN</td>\n",
       "      <td>NaN</td>\n",
       "      <td>NaN</td>\n",
       "      <td>NaN</td>\n",
       "      <td>NaN</td>\n",
       "      <td>NaN</td>\n",
       "      <td>NaN</td>\n",
       "    </tr>\n",
       "    <tr>\n",
       "      <th>1</th>\n",
       "      <td>2018</td>\n",
       "      <td>42.17</td>\n",
       "      <td>87720</td>\n",
       "      <td>40.65</td>\n",
       "      <td>1626</td>\n",
       "      <td>81300</td>\n",
       "      <td>NaN</td>\n",
       "      <td>NaN</td>\n",
       "      <td>NaN</td>\n",
       "      <td>NaN</td>\n",
       "      <td>NaN</td>\n",
       "      <td>NaN</td>\n",
       "      <td>NaN</td>\n",
       "    </tr>\n",
       "    <tr>\n",
       "      <th>2</th>\n",
       "      <td>2017</td>\n",
       "      <td>41.74</td>\n",
       "      <td>86820</td>\n",
       "      <td>40.13</td>\n",
       "      <td>1605</td>\n",
       "      <td>80260</td>\n",
       "      <td>NaN</td>\n",
       "      <td>NaN</td>\n",
       "      <td>NaN</td>\n",
       "      <td>NaN</td>\n",
       "      <td>NaN</td>\n",
       "      <td>NaN</td>\n",
       "      <td>NaN</td>\n",
       "    </tr>\n",
       "    <tr>\n",
       "      <th>3</th>\n",
       "      <td>2016</td>\n",
       "      <td>41.03</td>\n",
       "      <td>85340</td>\n",
       "      <td>39.58</td>\n",
       "      <td>1583</td>\n",
       "      <td>79160</td>\n",
       "      <td>NaN</td>\n",
       "      <td>NaN</td>\n",
       "      <td>NaN</td>\n",
       "      <td>NaN</td>\n",
       "      <td>NaN</td>\n",
       "      <td>NaN</td>\n",
       "      <td>NaN</td>\n",
       "    </tr>\n",
       "    <tr>\n",
       "      <th>4</th>\n",
       "      <td>2015</td>\n",
       "      <td>39.68</td>\n",
       "      <td>82540</td>\n",
       "      <td>38.54</td>\n",
       "      <td>1542</td>\n",
       "      <td>77080</td>\n",
       "      <td>NaN</td>\n",
       "      <td>NaN</td>\n",
       "      <td>NaN</td>\n",
       "      <td>NaN</td>\n",
       "      <td>NaN</td>\n",
       "      <td>NaN</td>\n",
       "      <td>NaN</td>\n",
       "    </tr>\n",
       "  </tbody>\n",
       "</table>\n",
       "</div>"
      ],
      "text/plain": [
       "   Year  Mean Hourly Wage  Annual Mean Wage  Median Hourly Wage  \\\n",
       "0  2019             43.32             90110               41.89   \n",
       "1  2018             42.17             87720               40.65   \n",
       "2  2017             41.74             86820               40.13   \n",
       "3  2016             41.03             85340               39.58   \n",
       "4  2015             39.68             82540               38.54   \n",
       "\n",
       "   Median Weekly Earnings  Annual Median Wage  Unnamed: 6  Unnamed: 7  \\\n",
       "0                    1676               83780         NaN         NaN   \n",
       "1                    1626               81300         NaN         NaN   \n",
       "2                    1605               80260         NaN         NaN   \n",
       "3                    1583               79160         NaN         NaN   \n",
       "4                    1542               77080         NaN         NaN   \n",
       "\n",
       "   Unnamed: 8  Unnamed: 9  Unnamed: 10  Unnamed: 11  Unnamed: 12  \n",
       "0         NaN         NaN          NaN          NaN          NaN  \n",
       "1         NaN         NaN          NaN          NaN          NaN  \n",
       "2         NaN         NaN          NaN          NaN          NaN  \n",
       "3         NaN         NaN          NaN          NaN          NaN  \n",
       "4         NaN         NaN          NaN          NaN          NaN  "
      ]
     },
     "execution_count": 3,
     "metadata": {},
     "output_type": "execute_result"
    }
   ],
   "source": [
    "# Read the csv file into a pandas DataFrame\n",
    "ims = pd.read_csv('Illinois_Mean_Salary.csv')\n",
    "ims.head()"
   ]
  },
  {
   "cell_type": "code",
   "execution_count": 7,
   "metadata": {},
   "outputs": [
    {
     "name": "stdout",
     "output_type": "stream",
     "text": [
      "Shape:  (221, 1) (17, 1)\n"
     ]
    },
    {
     "data": {
      "text/plain": [
       "array([[2.019e+03],\n",
       "       [4.332e+01],\n",
       "       [9.011e+04],\n",
       "       [4.189e+01],\n",
       "       [1.676e+03],\n",
       "       [8.378e+04],\n",
       "       [      nan],\n",
       "       [      nan],\n",
       "       [      nan],\n",
       "       [      nan],\n",
       "       [      nan],\n",
       "       [      nan],\n",
       "       [      nan],\n",
       "       [2.018e+03],\n",
       "       [4.217e+01],\n",
       "       [8.772e+04],\n",
       "       [4.065e+01],\n",
       "       [1.626e+03],\n",
       "       [8.130e+04],\n",
       "       [      nan],\n",
       "       [      nan],\n",
       "       [      nan],\n",
       "       [      nan],\n",
       "       [      nan],\n",
       "       [      nan],\n",
       "       [      nan],\n",
       "       [2.017e+03],\n",
       "       [4.174e+01],\n",
       "       [8.682e+04],\n",
       "       [4.013e+01],\n",
       "       [1.605e+03],\n",
       "       [8.026e+04],\n",
       "       [      nan],\n",
       "       [      nan],\n",
       "       [      nan],\n",
       "       [      nan],\n",
       "       [      nan],\n",
       "       [      nan],\n",
       "       [      nan],\n",
       "       [2.016e+03],\n",
       "       [4.103e+01],\n",
       "       [8.534e+04],\n",
       "       [3.958e+01],\n",
       "       [1.583e+03],\n",
       "       [7.916e+04],\n",
       "       [      nan],\n",
       "       [      nan],\n",
       "       [      nan],\n",
       "       [      nan],\n",
       "       [      nan],\n",
       "       [      nan],\n",
       "       [      nan],\n",
       "       [2.015e+03],\n",
       "       [3.968e+01],\n",
       "       [8.254e+04],\n",
       "       [3.854e+01],\n",
       "       [1.542e+03],\n",
       "       [7.708e+04],\n",
       "       [      nan],\n",
       "       [      nan],\n",
       "       [      nan],\n",
       "       [      nan],\n",
       "       [      nan],\n",
       "       [      nan],\n",
       "       [      nan],\n",
       "       [2.014e+03],\n",
       "       [3.830e+01],\n",
       "       [7.967e+04],\n",
       "       [3.743e+01],\n",
       "       [1.497e+03],\n",
       "       [7.486e+04],\n",
       "       [      nan],\n",
       "       [      nan],\n",
       "       [      nan],\n",
       "       [      nan],\n",
       "       [      nan],\n",
       "       [      nan],\n",
       "       [      nan],\n",
       "       [2.013e+03],\n",
       "       [3.763e+01],\n",
       "       [7.826e+04],\n",
       "       [3.686e+01],\n",
       "       [1.474e+03],\n",
       "       [7.372e+04],\n",
       "       [      nan],\n",
       "       [      nan],\n",
       "       [      nan],\n",
       "       [      nan],\n",
       "       [      nan],\n",
       "       [      nan],\n",
       "       [      nan],\n",
       "       [2.012e+03],\n",
       "       [3.726e+01],\n",
       "       [7.750e+04],\n",
       "       [3.626e+01],\n",
       "       [1.450e+03],\n",
       "       [7.252e+04],\n",
       "       [      nan],\n",
       "       [      nan],\n",
       "       [      nan],\n",
       "       [      nan],\n",
       "       [      nan],\n",
       "       [      nan],\n",
       "       [      nan],\n",
       "       [2.011e+03],\n",
       "       [3.663e+01],\n",
       "       [7.618e+04],\n",
       "       [3.529e+01],\n",
       "       [1.412e+03],\n",
       "       [7.058e+04],\n",
       "       [      nan],\n",
       "       [      nan],\n",
       "       [      nan],\n",
       "       [      nan],\n",
       "       [      nan],\n",
       "       [      nan],\n",
       "       [      nan],\n",
       "       [2.010e+03],\n",
       "       [3.612e+01],\n",
       "       [7.513e+04],\n",
       "       [3.461e+01],\n",
       "       [1.384e+03],\n",
       "       [6.922e+04],\n",
       "       [      nan],\n",
       "       [      nan],\n",
       "       [      nan],\n",
       "       [      nan],\n",
       "       [      nan],\n",
       "       [      nan],\n",
       "       [      nan],\n",
       "       [2.009e+03],\n",
       "       [3.638e+01],\n",
       "       [7.567e+04],\n",
       "       [3.480e+01],\n",
       "       [1.392e+03],\n",
       "       [6.960e+04],\n",
       "       [      nan],\n",
       "       [      nan],\n",
       "       [      nan],\n",
       "       [      nan],\n",
       "       [      nan],\n",
       "       [      nan],\n",
       "       [      nan],\n",
       "       [2.008e+03],\n",
       "       [3.619e+01],\n",
       "       [7.527e+04],\n",
       "       [3.462e+01],\n",
       "       [1.385e+03],\n",
       "       [6.924e+04],\n",
       "       [      nan],\n",
       "       [      nan],\n",
       "       [      nan],\n",
       "       [      nan],\n",
       "       [      nan],\n",
       "       [      nan],\n",
       "       [      nan],\n",
       "       [2.007e+03],\n",
       "       [3.546e+01],\n",
       "       [7.375e+04],\n",
       "       [3.407e+01],\n",
       "       [1.363e+03],\n",
       "       [6.814e+04],\n",
       "       [      nan],\n",
       "       [      nan],\n",
       "       [      nan],\n",
       "       [      nan],\n",
       "       [      nan],\n",
       "       [      nan],\n",
       "       [      nan],\n",
       "       [2.006e+03],\n",
       "       [3.336e+01],\n",
       "       [6.938e+04],\n",
       "       [3.206e+01],\n",
       "       [1.282e+03],\n",
       "       [6.412e+04],\n",
       "       [      nan],\n",
       "       [      nan],\n",
       "       [      nan],\n",
       "       [      nan],\n",
       "       [      nan],\n",
       "       [      nan],\n",
       "       [      nan],\n",
       "       [2.005e+03],\n",
       "       [3.195e+01],\n",
       "       [6.645e+04],\n",
       "       [3.080e+01],\n",
       "       [1.232e+03],\n",
       "       [6.160e+04],\n",
       "       [      nan],\n",
       "       [      nan],\n",
       "       [      nan],\n",
       "       [      nan],\n",
       "       [      nan],\n",
       "       [      nan],\n",
       "       [      nan],\n",
       "       [2.004e+03],\n",
       "       [3.203e+01],\n",
       "       [6.663e+04],\n",
       "       [3.086e+01],\n",
       "       [1.234e+03],\n",
       "       [6.172e+04],\n",
       "       [      nan],\n",
       "       [      nan],\n",
       "       [      nan],\n",
       "       [      nan],\n",
       "       [      nan],\n",
       "       [      nan],\n",
       "       [      nan],\n",
       "       [2.003e+03],\n",
       "       [3.031e+01],\n",
       "       [6.305e+04],\n",
       "       [2.915e+01],\n",
       "       [1.166e+03],\n",
       "       [5.830e+04],\n",
       "       [      nan],\n",
       "       [      nan],\n",
       "       [      nan],\n",
       "       [      nan],\n",
       "       [      nan],\n",
       "       [      nan],\n",
       "       [      nan]])"
      ]
     },
     "execution_count": 7,
     "metadata": {},
     "output_type": "execute_result"
    }
   ],
   "source": [
    "# Assign the data to X and y\n",
    "# Note: Sklearn requires a two-dimensional array of values\n",
    "# so we use reshape to create this\n",
    "\n",
    "X = ims.values.reshape(-1, 1)\n",
    "y = ims.Year.values.reshape(-1, 1)\n",
    "\n",
    "print(\"Shape: \", X.shape, y.shape)\n",
    "X"
   ]
  },
  {
   "cell_type": "code",
   "execution_count": 8,
   "metadata": {
    "nbgrader": {
     "grade": false,
     "grade_id": "cell-9042a62fdddc21ba",
     "locked": false,
     "schema_version": 1,
     "solution": true
    }
   },
   "outputs": [
    {
     "ename": "ValueError",
     "evalue": "x and y must be the same size",
     "output_type": "error",
     "traceback": [
      "\u001b[0;31m---------------------------------------------------------------------------\u001b[0m",
      "\u001b[0;31mValueError\u001b[0m                                Traceback (most recent call last)",
      "\u001b[0;32m<ipython-input-8-5d00885643cb>\u001b[0m in \u001b[0;36m<module>\u001b[0;34m\u001b[0m\n\u001b[1;32m      3\u001b[0m \u001b[0;31m### BEGIN SOLUTION\u001b[0m\u001b[0;34m\u001b[0m\u001b[0;34m\u001b[0m\u001b[0;34m\u001b[0m\u001b[0m\n\u001b[1;32m      4\u001b[0m \u001b[0;34m\u001b[0m\u001b[0m\n\u001b[0;32m----> 5\u001b[0;31m \u001b[0mplt\u001b[0m\u001b[0;34m.\u001b[0m\u001b[0mscatter\u001b[0m\u001b[0;34m(\u001b[0m\u001b[0mX\u001b[0m\u001b[0;34m,\u001b[0m \u001b[0my\u001b[0m\u001b[0;34m)\u001b[0m\u001b[0;34m\u001b[0m\u001b[0;34m\u001b[0m\u001b[0m\n\u001b[0m\u001b[1;32m      6\u001b[0m \u001b[0;34m\u001b[0m\u001b[0m\n\u001b[1;32m      7\u001b[0m \u001b[0;31m### END SOLUTION\u001b[0m\u001b[0;34m\u001b[0m\u001b[0;34m\u001b[0m\u001b[0;34m\u001b[0m\u001b[0m\n",
      "\u001b[0;32m/opt/anaconda3/lib/python3.7/site-packages/matplotlib/pyplot.py\u001b[0m in \u001b[0;36mscatter\u001b[0;34m(x, y, s, c, marker, cmap, norm, vmin, vmax, alpha, linewidths, verts, edgecolors, plotnonfinite, data, **kwargs)\u001b[0m\n\u001b[1;32m   2846\u001b[0m         \u001b[0mverts\u001b[0m\u001b[0;34m=\u001b[0m\u001b[0mverts\u001b[0m\u001b[0;34m,\u001b[0m \u001b[0medgecolors\u001b[0m\u001b[0;34m=\u001b[0m\u001b[0medgecolors\u001b[0m\u001b[0;34m,\u001b[0m\u001b[0;34m\u001b[0m\u001b[0;34m\u001b[0m\u001b[0m\n\u001b[1;32m   2847\u001b[0m         plotnonfinite=plotnonfinite, **({\"data\": data} if data is not\n\u001b[0;32m-> 2848\u001b[0;31m         None else {}), **kwargs)\n\u001b[0m\u001b[1;32m   2849\u001b[0m     \u001b[0msci\u001b[0m\u001b[0;34m(\u001b[0m\u001b[0m__ret\u001b[0m\u001b[0;34m)\u001b[0m\u001b[0;34m\u001b[0m\u001b[0;34m\u001b[0m\u001b[0m\n\u001b[1;32m   2850\u001b[0m     \u001b[0;32mreturn\u001b[0m \u001b[0m__ret\u001b[0m\u001b[0;34m\u001b[0m\u001b[0;34m\u001b[0m\u001b[0m\n",
      "\u001b[0;32m/opt/anaconda3/lib/python3.7/site-packages/matplotlib/__init__.py\u001b[0m in \u001b[0;36minner\u001b[0;34m(ax, data, *args, **kwargs)\u001b[0m\n\u001b[1;32m   1597\u001b[0m     \u001b[0;32mdef\u001b[0m \u001b[0minner\u001b[0m\u001b[0;34m(\u001b[0m\u001b[0max\u001b[0m\u001b[0;34m,\u001b[0m \u001b[0;34m*\u001b[0m\u001b[0margs\u001b[0m\u001b[0;34m,\u001b[0m \u001b[0mdata\u001b[0m\u001b[0;34m=\u001b[0m\u001b[0;32mNone\u001b[0m\u001b[0;34m,\u001b[0m \u001b[0;34m**\u001b[0m\u001b[0mkwargs\u001b[0m\u001b[0;34m)\u001b[0m\u001b[0;34m:\u001b[0m\u001b[0;34m\u001b[0m\u001b[0;34m\u001b[0m\u001b[0m\n\u001b[1;32m   1598\u001b[0m         \u001b[0;32mif\u001b[0m \u001b[0mdata\u001b[0m \u001b[0;32mis\u001b[0m \u001b[0;32mNone\u001b[0m\u001b[0;34m:\u001b[0m\u001b[0;34m\u001b[0m\u001b[0;34m\u001b[0m\u001b[0m\n\u001b[0;32m-> 1599\u001b[0;31m             \u001b[0;32mreturn\u001b[0m \u001b[0mfunc\u001b[0m\u001b[0;34m(\u001b[0m\u001b[0max\u001b[0m\u001b[0;34m,\u001b[0m \u001b[0;34m*\u001b[0m\u001b[0mmap\u001b[0m\u001b[0;34m(\u001b[0m\u001b[0msanitize_sequence\u001b[0m\u001b[0;34m,\u001b[0m \u001b[0margs\u001b[0m\u001b[0;34m)\u001b[0m\u001b[0;34m,\u001b[0m \u001b[0;34m**\u001b[0m\u001b[0mkwargs\u001b[0m\u001b[0;34m)\u001b[0m\u001b[0;34m\u001b[0m\u001b[0;34m\u001b[0m\u001b[0m\n\u001b[0m\u001b[1;32m   1600\u001b[0m \u001b[0;34m\u001b[0m\u001b[0m\n\u001b[1;32m   1601\u001b[0m         \u001b[0mbound\u001b[0m \u001b[0;34m=\u001b[0m \u001b[0mnew_sig\u001b[0m\u001b[0;34m.\u001b[0m\u001b[0mbind\u001b[0m\u001b[0;34m(\u001b[0m\u001b[0max\u001b[0m\u001b[0;34m,\u001b[0m \u001b[0;34m*\u001b[0m\u001b[0margs\u001b[0m\u001b[0;34m,\u001b[0m \u001b[0;34m**\u001b[0m\u001b[0mkwargs\u001b[0m\u001b[0;34m)\u001b[0m\u001b[0;34m\u001b[0m\u001b[0;34m\u001b[0m\u001b[0m\n",
      "\u001b[0;32m/opt/anaconda3/lib/python3.7/site-packages/matplotlib/axes/_axes.py\u001b[0m in \u001b[0;36mscatter\u001b[0;34m(self, x, y, s, c, marker, cmap, norm, vmin, vmax, alpha, linewidths, verts, edgecolors, plotnonfinite, **kwargs)\u001b[0m\n\u001b[1;32m   4441\u001b[0m         \u001b[0my\u001b[0m \u001b[0;34m=\u001b[0m \u001b[0mnp\u001b[0m\u001b[0;34m.\u001b[0m\u001b[0mma\u001b[0m\u001b[0;34m.\u001b[0m\u001b[0mravel\u001b[0m\u001b[0;34m(\u001b[0m\u001b[0my\u001b[0m\u001b[0;34m)\u001b[0m\u001b[0;34m\u001b[0m\u001b[0;34m\u001b[0m\u001b[0m\n\u001b[1;32m   4442\u001b[0m         \u001b[0;32mif\u001b[0m \u001b[0mx\u001b[0m\u001b[0;34m.\u001b[0m\u001b[0msize\u001b[0m \u001b[0;34m!=\u001b[0m \u001b[0my\u001b[0m\u001b[0;34m.\u001b[0m\u001b[0msize\u001b[0m\u001b[0;34m:\u001b[0m\u001b[0;34m\u001b[0m\u001b[0;34m\u001b[0m\u001b[0m\n\u001b[0;32m-> 4443\u001b[0;31m             \u001b[0;32mraise\u001b[0m \u001b[0mValueError\u001b[0m\u001b[0;34m(\u001b[0m\u001b[0;34m\"x and y must be the same size\"\u001b[0m\u001b[0;34m)\u001b[0m\u001b[0;34m\u001b[0m\u001b[0;34m\u001b[0m\u001b[0m\n\u001b[0m\u001b[1;32m   4444\u001b[0m \u001b[0;34m\u001b[0m\u001b[0m\n\u001b[1;32m   4445\u001b[0m         \u001b[0;32mif\u001b[0m \u001b[0ms\u001b[0m \u001b[0;32mis\u001b[0m \u001b[0;32mNone\u001b[0m\u001b[0;34m:\u001b[0m\u001b[0;34m\u001b[0m\u001b[0;34m\u001b[0m\u001b[0m\n",
      "\u001b[0;31mValueError\u001b[0m: x and y must be the same size"
     ]
    },
    {
     "data": {
      "image/png": "[encoded data removed]",
      "text/plain": [
       "<Figure size 432x288 with 1 Axes>"
      ]
     },
     "metadata": {
      "needs_background": "light"
     },
     "output_type": "display_data"
    }
   ],
   "source": [
    "# Plot the data\n",
    "\n",
    "### BEGIN SOLUTION\n",
    "\n",
    "plt.scatter(X, y)\n",
    "\n",
    "### END SOLUTION"
   ]
  },
  {
   "cell_type": "code",
   "execution_count": 5,
   "metadata": {
    "nbgrader": {
     "grade": false,
     "grade_id": "cell-c28431477001b4ca",
     "locked": false,
     "schema_version": 1,
     "solution": true
    }
   },
   "outputs": [],
   "source": [
    "# Create the model and fit the model to the data\n",
    "\n",
    "from sklearn.linear_model import LinearRegression\n",
    "\n",
    "### BEGIN SOLUTION\n",
    "\n",
    "model = LinearRegression()\n",
    "\n",
    "### END SOLUTION"
   ]
  },
  {
   "cell_type": "code",
   "execution_count": 6,
   "metadata": {
    "nbgrader": {
     "grade": false,
     "grade_id": "cell-cf45418a342b12fd",
     "locked": false,
     "schema_version": 1,
     "solution": true
    }
   },
   "outputs": [
    {
     "data": {
      "text/plain": [
       "LinearRegression(copy_X=True, fit_intercept=True, n_jobs=1, normalize=False)"
      ]
     },
     "execution_count": 6,
     "metadata": {},
     "output_type": "execute_result"
    }
   ],
   "source": [
    "# Fit the model to the data. \n",
    "# Note: This is the training step where you fit the line to the data.\n",
    "\n",
    "### BEGIN SOLUTION\n",
    "\n",
    "model.fit(X, y)\n",
    "\n",
    "### END SOLUTION"
   ]
  },
  {
   "cell_type": "code",
   "execution_count": 7,
   "metadata": {
    "nbgrader": {
     "grade": false,
     "grade_id": "cell-546fc1044e2e1c77",
     "locked": false,
     "schema_version": 1,
     "solution": true
    }
   },
   "outputs": [
    {
     "name": "stdout",
     "output_type": "stream",
     "text": [
      "Weight coefficients:  [[-9.00946642]]\n",
      "y-axis intercept:  [89.12387377]\n"
     ]
    }
   ],
   "source": [
    "# Print the coefficient and the intercept for the model\n",
    "\n",
    "### BEGIN SOLUTION\n",
    "print('Weight coefficients: ', model.coef_)\n",
    "print('y-axis intercept: ', model.intercept_)\n",
    "### END SOLUTION"
   ]
  },
  {
   "cell_type": "code",
   "execution_count": 8,
   "metadata": {},
   "outputs": [
    {
     "name": "stdout",
     "output_type": "stream",
     "text": [
      "Min X Value: [[1.17]]\n",
      "Max X Value: [[6.41]]\n"
     ]
    }
   ],
   "source": [
    "# Note: we have to transform our min and max values \n",
    "# so they are in the format: array([[ 1.17]])\n",
    "# This is the required format for `model.predict()`\n",
    "\n",
    "x_min = np.array([[X.min()]])\n",
    "x_max = np.array([[X.max()]])\n",
    "print(f\"Min X Value: {x_min}\")\n",
    "print(f\"Max X Value: {x_max}\")"
   ]
  },
  {
   "cell_type": "code",
   "execution_count": 9,
   "metadata": {
    "nbgrader": {
     "grade": false,
     "grade_id": "cell-5314a52e13fd4e63",
     "locked": false,
     "schema_version": 1,
     "solution": true
    }
   },
   "outputs": [],
   "source": [
    "# Calculate the y_min and y_max using model.predict and x_min and x_max\n",
    "\n",
    "### BEGIN SOLUTION\n",
    "y_min = model.predict(x_min)\n",
    "y_max = model.predict(x_max)\n",
    "### END SOLUTION"
   ]
  },
  {
   "cell_type": "code",
   "execution_count": 10,
   "metadata": {
    "nbgrader": {
     "grade": false,
     "grade_id": "cell-63f9d27c8f668bfa",
     "locked": false,
     "schema_version": 1,
     "solution": true
    }
   },
   "outputs": [
    {
     "data": {
      "text/plain": [
       "[<matplotlib.lines.Line2D at 0x1a213276a0>]"
      ]
     },
     "execution_count": 10,
     "metadata": {},
     "output_type": "execute_result"
    },
    {
     "data": {
      "image/png": "[encoded data removed]",
      "text/plain": [
       "<Figure size 432x288 with 1 Axes>"
      ]
     },
     "metadata": {},
     "output_type": "display_data"
    }
   ],
   "source": [
    "# Plot X and y using plt.scatter\n",
    "# Plot the model fit line using [x_min[0], x_max[0]], [y_min[0], y_max[0]]\n",
    "\n",
    "### BEGIN SOLUTION\n",
    "plt.scatter(X, y, c='blue')\n",
    "plt.plot([x_min[0], x_max[0]], [y_min[0], y_max[0]], c='red')\n",
    "### END SOLUTION"
   ]
  },
  {
   "cell_type": "code",
   "execution_count": null,
   "metadata": {},
   "outputs": [],
   "source": []
  },
  {
   "cell_type": "code",
   "execution_count": null,
   "metadata": {},
   "outputs": [],
   "source": []
  }
 ],
 "metadata": {
  "celltoolbar": "Create Assignment",
  "kernelspec": {
   "display_name": "Python 3",
   "language": "python",
   "name": "python3"
  },
  "language_info": {
   "codemirror_mode": {
    "name": "ipython",
    "version": 3
   },
   "file_extension": ".py",
   "mimetype": "text/x-python",
   "name": "python",
   "nbconvert_exporter": "python",
   "pygments_lexer": "ipython3",
   "version": "3.7.6"
  },
  "varInspector": {
   "cols": {
    "lenName": 16,
    "lenType": 16,
    "lenVar": 40
   },
   "kernels_config": {
    "python": {
     "delete_cmd_postfix": "",
     "delete_cmd_prefix": "del ",
     "library": "var_list.py",
     "varRefreshCmd": "print(var_dic_list())"
    },
    "r": {
     "delete_cmd_postfix": ") ",
     "delete_cmd_prefix": "rm(",
     "library": "var_list.r",
     "varRefreshCmd": "cat(var_dic_list()) "
    }
   },
   "types_to_exclude": [
    "module",
    "function",
    "builtin_function_or_method",
    "instance",
    "_Feature"
   ],
   "window_display": false
  }
 },
 "nbformat": 4,
 "nbformat_minor": 4
}
